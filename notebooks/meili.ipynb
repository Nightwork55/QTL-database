{
 "cells": [
  {
   "cell_type": "code",
   "execution_count": 26,
   "metadata": {
    "collapsed": true,
    "pycharm": {
     "name": "#%%\n"
    }
   },
   "outputs": [],
   "source": [
    "from random import random, randint\n",
    "import datetime\n",
    "\n",
    "from meilisearch import Client\n",
    "from pymongo import MongoClient"
   ]
  },
  {
   "cell_type": "code",
   "execution_count": 27,
   "outputs": [],
   "source": [
    "client = Client(\"http://127.0.0.1:7700\", \"masterKey\")"
   ],
   "metadata": {
    "collapsed": false,
    "pycharm": {
     "name": "#%%\n"
    }
   }
  },
  {
   "cell_type": "code",
   "execution_count": 28,
   "outputs": [],
   "source": [
    "tanks = client.index(\"tanks\")"
   ],
   "metadata": {
    "collapsed": false,
    "pycharm": {
     "name": "#%%\n"
    }
   }
  },
  {
   "cell_type": "code",
   "execution_count": 30,
   "outputs": [],
   "source": [
    "before = tanks.get_documents({\"limit\": 2000})\n",
    "\n",
    "sizes = [\"1.5L\", \"3L\", \"10L\"]\n",
    "sexual_list = [\"male\", \"female\"]\n",
    "genotypes = [\n",
    "    \"genotype-a\",\n",
    "    \"genotype-b\",\n",
    "    \"genotype-c\",\n",
    "    \"genotype-d\",\n",
    "    \"genotype-e\",\n",
    "    \"genotype-f\",\n",
    "    \"genotype-g\"\n",
    "]\n",
    "species = [\"species-a\", \"species-b\", \"species-c\", \"species-d\", \"species-e\"]\n",
    "\n",
    "for i in before:\n",
    "    i[\"size\"] = sizes[randint(0, 2)]\n",
    "    if random() < 0.4:\n",
    "        i[\"sexual\"] = sexual_list[randint(0, 1)]\n",
    "    if random() < 0.3:\n",
    "        i[\"genotype\"] = genotypes[randint(0, 6)]\n",
    "    if random() < 0.35:\n",
    "        i[\"species\"] = species[randint(0, 4)]\n",
    "\n",
    "tanks.update_documents(before)"
   ],
   "metadata": {
    "collapsed": false,
    "pycharm": {
     "name": "#%%\n"
    }
   }
  },
  {
   "cell_type": "code",
   "execution_count": 32,
   "outputs": [],
   "source": [
    "all_tanks = tanks.get_documents({\"limit\": 2000})"
   ],
   "metadata": {
    "collapsed": false,
    "pycharm": {
     "name": "#%%\n"
    }
   }
  },
  {
   "cell_type": "code",
   "execution_count": 33,
   "outputs": [],
   "source": [
    "records = MongoClient(\"mongodb://localhost:27017\").get_database(\"killifish\").get_collection(\"records\")"
   ],
   "metadata": {
    "collapsed": false,
    "pycharm": {
     "name": "#%%\n"
    }
   }
  },
  {
   "cell_type": "code",
   "execution_count": 21,
   "outputs": [],
   "source": [
    "data = []"
   ],
   "metadata": {
    "collapsed": false,
    "pycharm": {
     "name": "#%%\n"
    }
   }
  },
  {
   "cell_type": "code",
   "execution_count": 34,
   "outputs": [],
   "source": [
    "begin = datetime.datetime(2022, 1, 1, 6, 0, 0)\n",
    "end = datetime.datetime(2022, 12, 30, 6, 0, 0)\n",
    "\n",
    "d = begin\n",
    "delta = datetime.timedelta(hours=8)\n",
    "\n",
    "while d < end:\n",
    "\n",
    "    for tank in all_tanks:\n",
    "        tmp = {\n",
    "            \"time\": d.strftime(\"%Y-%m-%d %H:%M:%S\"),\n",
    "            \"owner\": tank[\"owner\"],\n",
    "            \"tankId\": tank[\"id\"],\n",
    "            \"quantity\": randint(1, 3) * tank[\"amount\"],\n",
    "            \"genotype\": tank.get(\"genotype\"),\n",
    "            \"sexual\": tank.get(\"sexual\"),\n",
    "            \"birthday\": tank.get(\"birthday\")\n",
    "        }\n",
    "\n",
    "        data.append(tmp)\n",
    "\n",
    "    d += delta"
   ],
   "metadata": {
    "collapsed": false,
    "pycharm": {
     "name": "#%%\n"
    }
   }
  },
  {
   "cell_type": "code",
   "execution_count": 35,
   "outputs": [
    {
     "data": {
      "text/plain": "1078110"
     },
     "execution_count": 35,
     "metadata": {},
     "output_type": "execute_result"
    }
   ],
   "source": [
    "len(data)"
   ],
   "metadata": {
    "collapsed": false,
    "pycharm": {
     "name": "#%%\n"
    }
   }
  },
  {
   "cell_type": "code",
   "execution_count": 36,
   "outputs": [
    {
     "data": {
      "text/plain": "<pymongo.results.InsertManyResult at 0x23f3ad95bb0>"
     },
     "execution_count": 36,
     "metadata": {},
     "output_type": "execute_result"
    }
   ],
   "source": [
    "records.insert_many(data)"
   ],
   "metadata": {
    "collapsed": false,
    "pycharm": {
     "name": "#%%\n"
    }
   }
  },
  {
   "cell_type": "code",
   "execution_count": null,
   "outputs": [],
   "source": [],
   "metadata": {
    "collapsed": false,
    "pycharm": {
     "name": "#%%\n"
    }
   }
  }
 ],
 "metadata": {
  "kernelspec": {
   "display_name": "Python 3",
   "language": "python",
   "name": "python3"
  },
  "language_info": {
   "codemirror_mode": {
    "name": "ipython",
    "version": 2
   },
   "file_extension": ".py",
   "mimetype": "text/x-python",
   "name": "python",
   "nbconvert_exporter": "python",
   "pygments_lexer": "ipython2",
   "version": "2.7.6"
  }
 },
 "nbformat": 4,
 "nbformat_minor": 0
}